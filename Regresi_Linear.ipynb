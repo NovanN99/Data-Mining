{
  "nbformat": 4,
  "nbformat_minor": 0,
  "metadata": {
    "colab": {
      "name": "Regresi_Linear.ipynb",
      "provenance": []
    },
    "kernelspec": {
      "name": "python3",
      "display_name": "Python 3"
    },
    "language_info": {
      "name": "python"
    }
  },
  "cells": [
    {
      "cell_type": "code",
      "metadata": {
        "id": "s05WNVm3adiF"
      },
      "source": [
        "#Mempersiapkan Library\n",
        "import numpy as np\n",
        "import pandas as pd\n",
        "import matplotlib.pyplot as plt\n",
        "import sklearn"
      ],
      "execution_count": 3,
      "outputs": []
    },
    {
      "cell_type": "code",
      "metadata": {
        "id": "BD3eBcpSd1oz"
      },
      "source": [
        "#Memanggil dataset\n",
        "dataset = pd.read_excel('Data Penjualan.xlsx')\n",
        "x = dataset.iloc[:, :-1].values\n",
        "y = dataset.iloc[:, 1].values"
      ],
      "execution_count": 4,
      "outputs": []
    },
    {
      "cell_type": "code",
      "metadata": {
        "colab": {
          "base_uri": "https://localhost:8080/"
        },
        "id": "YDGIwb25f1th",
        "outputId": "945f52e8-2744-4a97-bfff-9ea2ba21e29d"
      },
      "source": [
        "dataset.keys()"
      ],
      "execution_count": 5,
      "outputs": [
        {
          "output_type": "execute_result",
          "data": {
            "text/plain": [
              "Index(['BiayaProduksi', 'NilaiPenjualan'], dtype='object')"
            ]
          },
          "metadata": {
            "tags": []
          },
          "execution_count": 5
        }
      ]
    },
    {
      "cell_type": "code",
      "metadata": {
        "colab": {
          "base_uri": "https://localhost:8080/"
        },
        "id": "1eBvakxaf9Pk",
        "outputId": "d20ce859-1751-4160-bbd5-376c7dc602fa"
      },
      "source": [
        "dataset.shape"
      ],
      "execution_count": 6,
      "outputs": [
        {
          "output_type": "execute_result",
          "data": {
            "text/plain": [
              "(20, 2)"
            ]
          },
          "metadata": {
            "tags": []
          },
          "execution_count": 6
        }
      ]
    },
    {
      "cell_type": "code",
      "metadata": {
        "colab": {
          "base_uri": "https://localhost:8080/",
          "height": 203
        },
        "id": "CWxcs2QmgSbq",
        "outputId": "b0ac130d-618f-4782-efdf-bc482dfad4b0"
      },
      "source": [
        "#Menampilkan isi sebagian dataset\n",
        "dataku = pd.DataFrame(dataset)\n",
        "dataku.head()"
      ],
      "execution_count": 7,
      "outputs": [
        {
          "output_type": "execute_result",
          "data": {
            "text/html": [
              "<div>\n",
              "<style scoped>\n",
              "    .dataframe tbody tr th:only-of-type {\n",
              "        vertical-align: middle;\n",
              "    }\n",
              "\n",
              "    .dataframe tbody tr th {\n",
              "        vertical-align: top;\n",
              "    }\n",
              "\n",
              "    .dataframe thead th {\n",
              "        text-align: right;\n",
              "    }\n",
              "</style>\n",
              "<table border=\"1\" class=\"dataframe\">\n",
              "  <thead>\n",
              "    <tr style=\"text-align: right;\">\n",
              "      <th></th>\n",
              "      <th>BiayaProduksi</th>\n",
              "      <th>NilaiPenjualan</th>\n",
              "    </tr>\n",
              "  </thead>\n",
              "  <tbody>\n",
              "    <tr>\n",
              "      <th>0</th>\n",
              "      <td>1500</td>\n",
              "      <td>90500</td>\n",
              "    </tr>\n",
              "    <tr>\n",
              "      <th>1</th>\n",
              "      <td>1800</td>\n",
              "      <td>89500</td>\n",
              "    </tr>\n",
              "    <tr>\n",
              "      <th>2</th>\n",
              "      <td>1900</td>\n",
              "      <td>105000</td>\n",
              "    </tr>\n",
              "    <tr>\n",
              "      <th>3</th>\n",
              "      <td>2050</td>\n",
              "      <td>102000</td>\n",
              "    </tr>\n",
              "    <tr>\n",
              "      <th>4</th>\n",
              "      <td>2050</td>\n",
              "      <td>90500</td>\n",
              "    </tr>\n",
              "  </tbody>\n",
              "</table>\n",
              "</div>"
            ],
            "text/plain": [
              "   BiayaProduksi  NilaiPenjualan\n",
              "0           1500           90500\n",
              "1           1800           89500\n",
              "2           1900          105000\n",
              "3           2050          102000\n",
              "4           2050           90500"
            ]
          },
          "metadata": {
            "tags": []
          },
          "execution_count": 7
        }
      ]
    },
    {
      "cell_type": "code",
      "metadata": {
        "id": "HWxudfvIhE9M"
      },
      "source": [
        "#Split dataset menjadi training set dan testing set\n",
        "from sklearn.model_selection import train_test_split\n",
        "x_train, x_test, y_train, y_test = train_test_split(x, y, test_size = 0.2, random_state=0)"
      ],
      "execution_count": 11,
      "outputs": []
    },
    {
      "cell_type": "code",
      "metadata": {
        "colab": {
          "base_uri": "https://localhost:8080/"
        },
        "id": "3SzbWNYJhyWM",
        "outputId": "5127b3ef-bea4-4444-f0f5-377ec33f69ed"
      },
      "source": [
        "#Melakukan Fitting Simple Linear Regression pada Training Set\n",
        "from sklearn.linear_model import LinearRegression\n",
        "regressor = LinearRegression()\n",
        "regressor.fit(x_train, y_train)"
      ],
      "execution_count": 12,
      "outputs": [
        {
          "output_type": "execute_result",
          "data": {
            "text/plain": [
              "LinearRegression(copy_X=True, fit_intercept=True, n_jobs=None, normalize=False)"
            ]
          },
          "metadata": {
            "tags": []
          },
          "execution_count": 12
        }
      ]
    },
    {
      "cell_type": "code",
      "metadata": {
        "id": "TidCnSG6jX3U"
      },
      "source": [
        "#Memprediksi Hasil Test-Set\n",
        "y_pred = regressor.predict(x_test)"
      ],
      "execution_count": 13,
      "outputs": []
    },
    {
      "cell_type": "code",
      "metadata": {
        "colab": {
          "base_uri": "https://localhost:8080/",
          "height": 312
        },
        "id": "UupZASCDj0gT",
        "outputId": "5a3ce4ff-2763-4fd7-9b88-0ab1c8c27f80"
      },
      "source": [
        "#Visualisasi Data\n",
        "plt.scatter(dataku.BiayaProduksi, dataku.NilaiPenjualan)\n",
        "plt.xlabel('Biaya Produksi')\n",
        "plt.ylabel('Nilai Penjualan')\n",
        "plt.title('Grafik Biaya Produksi vs Nilai Penjualan')\n",
        "plt.show"
      ],
      "execution_count": 15,
      "outputs": [
        {
          "output_type": "execute_result",
          "data": {
            "text/plain": [
              "<function matplotlib.pyplot.show>"
            ]
          },
          "metadata": {
            "tags": []
          },
          "execution_count": 15
        },
        {
          "output_type": "display_data",
          "data": {
            "image/png": "[encoded data removed]",
            "text/plain": [
              "<Figure size 432x288 with 1 Axes>"
            ]
          },
          "metadata": {
            "tags": [],
            "needs_background": "light"
          }
        }
      ]
    },
    {
      "cell_type": "code",
      "metadata": {
        "colab": {
          "base_uri": "https://localhost:8080/",
          "height": 530
        },
        "id": "OghkW8CPkh_E",
        "outputId": "2cb10bfb-6810-44d4-e594-6520474ad506"
      },
      "source": [
        "#Visualisasi Hasil Prediksi Pada Training Set\n",
        "#Ukuran Plot\n",
        "plt.figure(figsize=(10, 8))\n",
        "\n",
        "#Biru adalah data observasi\n",
        "plt.scatter(x_train, y_train, color='blue')\n",
        "\n",
        "#Garis merah adalah hasil prediksi dari Mechine Learning\n",
        "plt.plot(x_train, regressor.predict(x_train), color ='red')\n",
        "\n",
        "#Memberi Judul dan Label\n",
        "plt.title('Biaya Produksi terhadap Penjualan(Training Set)')\n",
        "plt.xlabel('Biaya Produksi')\n",
        "plt.ylabel('Penjualan')\n",
        "\n",
        "#Menampilkan Plot\n",
        "plt.show"
      ],
      "execution_count": 16,
      "outputs": [
        {
          "output_type": "execute_result",
          "data": {
            "text/plain": [
              "<function matplotlib.pyplot.show>"
            ]
          },
          "metadata": {
            "tags": []
          },
          "execution_count": 16
        },
        {
          "output_type": "display_data",
          "data": {
            "image/png": "[encoded data removed]",
            "text/plain": [
              "<Figure size 720x576 with 1 Axes>"
            ]
          },
          "metadata": {
            "tags": [],
            "needs_background": "light"
          }
        }
      ]
    },
    {
      "cell_type": "code",
      "metadata": {
        "colab": {
          "base_uri": "https://localhost:8080/",
          "height": 530
        },
        "id": "12mDVjZPna1u",
        "outputId": "b0f509fc-d7f6-4ff3-919b-8992fdec4a97"
      },
      "source": [
        "#Visualisasi Hasil Prediksi Pada Test-Set\n",
        "#Ukuran Plot\n",
        "plt.figure(figsize=(10,8))\n",
        "\n",
        "#Biru Adalah Data Observasi\n",
        "plt.scatter(x_test, y_test, color = 'blue')\n",
        "\n",
        "#Garis Merah adalah hasil prediksi dari machine learning\n",
        "plt.plot(x_test, regressor.predict(x_test), color = 'red')\n",
        "\n",
        "#Memberikan Judul dan Label\n",
        "plt.title('Biaya Produksi terhadap Penjualan(Test Set)')\n",
        "plt.xlabel('Biaya Produksi')\n",
        "plt.ylabel('Penjualan')\n",
        "\n",
        "#Menampilkan Plot\n",
        "plt.show"
      ],
      "execution_count": 17,
      "outputs": [
        {
          "output_type": "execute_result",
          "data": {
            "text/plain": [
              "<function matplotlib.pyplot.show>"
            ]
          },
          "metadata": {
            "tags": []
          },
          "execution_count": 17
        },
        {
          "output_type": "display_data",
          "data": {
            "image/png": "[encoded data removed]",
            "text/plain": [
              "<Figure size 720x576 with 1 Axes>"
            ]
          },
          "metadata": {
            "tags": [],
            "needs_background": "light"
          }
        }
      ]
    }
  ]
}